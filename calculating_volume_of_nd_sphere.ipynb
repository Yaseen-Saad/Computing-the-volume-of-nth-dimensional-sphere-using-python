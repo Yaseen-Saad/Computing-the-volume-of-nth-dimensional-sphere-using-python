{
  "cells": [
    {
      "cell_type": "markdown",
      "metadata": {
        "id": "view-in-github",
        "colab_type": "text"
      },
      "source": [
        "<a href=\"https://colab.research.google.com/github/Yaseen-Saad/Computing-the-volume-of-nth-dimensional-sphere-using-python/blob/main/calculating_volume_of_nd_sphere.ipynb\" target=\"_parent\"><img src=\"https://colab.research.google.com/assets/colab-badge.svg\" alt=\"Open In Colab\"/></a>"
      ]
    },
    {
      "cell_type": "markdown",
      "metadata": {
        "id": "CSqBnFpRZPRz"
      },
      "source": [
        "# Finding the Volume of a nD Sphere Using Monte Carlo Method"
      ]
    },
    {
      "cell_type": "code",
      "execution_count": null,
      "metadata": {
        "id": "eAfeiIHEZPR0"
      },
      "outputs": [],
      "source": [
        "import numpy as np\n",
        "from tqdm import tqdm\n",
        "import math"
      ]
    },
    {
      "cell_type": "code",
      "execution_count": null,
      "metadata": {
        "id": "icHwONkSZPR1"
      },
      "outputs": [],
      "source": [
        "def gamma_function(n):\n",
        "    return math.factorial(int(n-1))"
      ]
    },
    {
      "cell_type": "code",
      "execution_count": null,
      "metadata": {
        "id": "Tl4xQ8oLZPR1"
      },
      "outputs": [],
      "source": [
        "total_points = 10000000\n",
        "n=10\n",
        "real_volume = np.pi**(n/2)/gamma_function(n/2+1)\n",
        "hits = 0"
      ]
    },
    {
      "cell_type": "code",
      "execution_count": null,
      "metadata": {
        "id": "F4T3y2bFZPR2"
      },
      "outputs": [],
      "source": [
        "def random_points(n):\n",
        "    return np.random.uniform(-1,1,n)"
      ]
    },
    {
      "cell_type": "code",
      "execution_count": null,
      "metadata": {
        "id": "EUIbyA6dZPR2"
      },
      "outputs": [],
      "source": [
        "def does_hit(points):\n",
        "    if (np.sum(points**2) <=1):\n",
        "        return True\n",
        "    else:\n",
        "        return False"
      ]
    },
    {
      "cell_type": "code",
      "execution_count": null,
      "metadata": {
        "id": "BOtRsF5KZPR2",
        "outputId": "c134541f-b3b4-4d61-f16b-63423d074e16"
      },
      "outputs": [
        {
          "name": "stderr",
          "output_type": "stream",
          "text": [
            "Throwing the rocks:   0%|          | 0/9999999 [00:00<?, ?it/s]"
          ]
        },
        {
          "name": "stderr",
          "output_type": "stream",
          "text": [
            "                                                                                 \r"
          ]
        }
      ],
      "source": [
        "for itteration in tqdm(range(1, total_points), desc=f\"Throwing the rocks\", leave=False):\n",
        "    if (does_hit(random_points(n))):\n",
        "        hits += 1"
      ]
    },
    {
      "cell_type": "code",
      "execution_count": null,
      "metadata": {
        "id": "tpXLn3oEZPR3",
        "outputId": "0eaefe6f-7c53-475c-bad0-84fc6cc7b761"
      },
      "outputs": [
        {
          "data": {
            "text/plain": [
              "'The Estimated Volume is :2.5428992, whule the theoratical volume is 2.550164039877345, having an error of 0.007264839877345164'"
            ]
          },
          "execution_count": 7,
          "metadata": {},
          "output_type": "execute_result"
        }
      ],
      "source": [
        "\n",
        "estimated_volume = hits/total_points*2**n\n",
        "f\"The Estimated Volume is :{estimated_volume}, whule the theoratical volume is {real_volume}, having an error of {abs(estimated_volume- real_volume)}\""
      ]
    }
  ],
  "metadata": {
    "kernelspec": {
      "display_name": "Python 3",
      "language": "python",
      "name": "python3"
    },
    "language_info": {
      "codemirror_mode": {
        "name": "ipython",
        "version": 3
      },
      "file_extension": ".py",
      "mimetype": "text/x-python",
      "name": "python",
      "nbconvert_exporter": "python",
      "pygments_lexer": "ipython3",
      "version": "3.12.5"
    },
    "colab": {
      "provenance": [],
      "include_colab_link": true
    }
  },
  "nbformat": 4,
  "nbformat_minor": 0
}